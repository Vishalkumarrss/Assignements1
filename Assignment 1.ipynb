{
 "cells": [
  {
   "cell_type": "markdown",
   "id": "614c6407",
   "metadata": {},
   "source": [
    "1. In the below elements which of them are values or an expression? eg:- values can be\n",
    "integer or string and expressions will be mathematical operators.\n",
    "*\n",
    "hello\n",
    "-87.8\n",
    "-\n",
    "/\n",
    "+\n",
    "6\n",
    "\n",
    "\n",
    "Sol:\n",
    "     * = expression\n",
    "     'hello' = value\n",
    "     -88.8 = value\n",
    "     -  = expression\n",
    "     / = expression\n",
    "\t +  = expression\n",
    "     6 = value\n"
   ]
  },
  {
   "cell_type": "markdown",
   "id": "d8fba8c1",
   "metadata": {},
   "source": [
    "2.What is the difference between string and variable?\n",
    "\n",
    "Sol:\n",
    "    A variable is something that can hold a value.\n",
    "    A string is one of many types of values.\n",
    "    "
   ]
  },
  {
   "cell_type": "markdown",
   "id": "49228337",
   "metadata": {},
   "source": [
    "3. Describe three different data types.\n",
    "\n",
    "Sol:1.Int - Integer value can be any length such as integers 10, 2,        -20 etc.\n",
    "    2.Float - Float is used to store floating-point numbers like             1.2, 18.2, etc.\n",
    "    3.String-The string can be defined as the sequence of characters        represented in the quotation marks like \n",
    "       str = \" This is a string\"."
   ]
  },
  {
   "cell_type": "markdown",
   "id": "ccc8c9e6",
   "metadata": {},
   "source": [
    "4.What is an expression made up of? What do all expressions do?\n",
    "\n",
    "Sol:An expession is made up of operators and operands e.g: x=1+2 and\n",
    "        expressions are used to evaluate the values. "
   ]
  },
  {
   "cell_type": "markdown",
   "id": "7e7f6467",
   "metadata": {},
   "source": [
    "5.This assignment statements, like spam = 10. What is the difference between an expression and a statement?\n",
    " \n",
    " Sol:Expression is made up of values, containers, and mathematical operators and the statement is just like a command that a python interpreter executes like print."
   ]
  },
  {
   "cell_type": "markdown",
   "id": "28d17f4b",
   "metadata": {},
   "source": [
    "6. After running the following code, what does the variable bacon contain?\n",
    "bacon = 22\n",
    "bacon + 1\n",
    "\n",
    "Sol:it gives 23"
   ]
  },
  {
   "cell_type": "code",
   "execution_count": 1,
   "id": "f8d0d4f1",
   "metadata": {},
   "outputs": [
    {
     "data": {
      "text/plain": [
       "23"
      ]
     },
     "execution_count": 1,
     "metadata": {},
     "output_type": "execute_result"
    }
   ],
   "source": [
    "bacon = 22\n",
    "bacon + 1"
   ]
  },
  {
   "cell_type": "markdown",
   "id": "7c47c265",
   "metadata": {},
   "source": [
    "What should the values of the following two terms be?\n",
    "'spam' +'spamspam'\n",
    "'spam '* 3\n",
    "\n",
    "Sol:it gives 'spam spam spam '"
   ]
  },
  {
   "cell_type": "code",
   "execution_count": 2,
   "id": "1908633b",
   "metadata": {},
   "outputs": [
    {
     "data": {
      "text/plain": [
       "'spam spam spam '"
      ]
     },
     "execution_count": 2,
     "metadata": {},
     "output_type": "execute_result"
    }
   ],
   "source": [
    "'spam' +'spamspam'\n",
    "'spam '* 3"
   ]
  },
  {
   "cell_type": "markdown",
   "id": "e9ba95ef",
   "metadata": {},
   "source": [
    "8. Why is eggs a valid variable name while 100 is invalid?\n",
    "\n",
    "Sol:Because variable names cannot begin with a number"
   ]
  },
  {
   "cell_type": "markdown",
   "id": "35535bee",
   "metadata": {},
   "source": [
    "9. What three functions can be used to get the integer, floating-point number, or string version of a value?\n",
    "\n",
    "Sol:str()\n",
    "    int()\n",
    "    float()\n"
   ]
  },
  {
   "cell_type": "markdown",
   "id": "82c3bc56",
   "metadata": {},
   "source": [
    "10. Why does this expression cause an error? How can you fix it?\n",
    "I have eaten  + 99 +  burritos.\n",
    "\n",
    "Sol:This expression causes and error because in this line 'I have eaten' and 'burritos' are strings, while 99 is treated as integer. In order to fix the error and print 'I have eaten 99 burritos.', 99 needs '' around it to treat it as a string."
   ]
  }
 ],
 "metadata": {
  "kernelspec": {
   "display_name": "Python 3 (ipykernel)",
   "language": "python",
   "name": "python3"
  },
  "language_info": {
   "codemirror_mode": {
    "name": "ipython",
    "version": 3
   },
   "file_extension": ".py",
   "mimetype": "text/x-python",
   "name": "python",
   "nbconvert_exporter": "python",
   "pygments_lexer": "ipython3",
   "version": "3.9.7"
  }
 },
 "nbformat": 4,
 "nbformat_minor": 5
}
