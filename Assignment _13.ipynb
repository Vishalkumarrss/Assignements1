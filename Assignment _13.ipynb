{
 "cells": [
  {
   "cell_type": "code",
   "execution_count": null,
   "id": "4aaa54c0",
   "metadata": {},
   "outputs": [],
   "source": [
    "1. What advantages do Excel spreadsheets have over CSV spreadsheets?\n",
    "Ans: The Advantages of Excel over CSV are:\n",
    "\n",
    "1.Excel (XLS and XLSX) file formats are better for storing and analysing complex data.\n",
    "2.An Excel not only stores data but can also do operations on the data using macros, formulas etc\n",
    "3.CSV files are plain-text files, Does not contain formatting, formulas,macros, etc. It is also known as flat files"
   ]
  },
  {
   "cell_type": "code",
   "execution_count": null,
   "id": "ec26dd4d",
   "metadata": {},
   "outputs": [],
   "source": [
    "2.What do you pass to csv.reader() and csv.writer() to create reader and writer objects?"
   ]
  },
  {
   "cell_type": "code",
   "execution_count": 3,
   "id": "03b3c865",
   "metadata": {
    "scrolled": false
   },
   "outputs": [
    {
     "name": "stdout",
     "output_type": "stream",
     "text": [
      "['name', 'age', 'income']\n",
      "['rob', '27', '70000']\n",
      "['michel', '29', '90000']\n",
      "['mohan', '28', '61000']\n",
      "['ismal', '42', '150000']\n",
      "['kory', '39', '155000']\n",
      "['gautam', '41', '160000']\n",
      "['david', '38', '162000']\n",
      "['mdkk', '38', '156000']\n",
      "['dk', '36', '130000']\n",
      "['nd', '35', '137000']\n",
      "['nk', '37', '45000']\n",
      "['mj', '26', '48000']\n",
      "['nnj', '27', '51000']\n",
      "['aj', '28', '48200']\n",
      "['ak', '29', '53000']\n",
      "['pk', '29', '65000']\n",
      "['ab', '32', '53600']\n",
      "['ba', '40', '25230']\n",
      "['ed', '41', '56000']\n"
     ]
    }
   ],
   "source": [
    "import csv\n",
    "with open('income.csv','r') as file:\n",
    "    csv_file = csv.reader(file,delimiter=',')\n",
    "    for ele in csv_file:\n",
    "        print(ele)"
   ]
  },
  {
   "cell_type": "code",
   "execution_count": null,
   "id": "d2c6b3cc",
   "metadata": {},
   "outputs": [],
   "source": [
    "3. What modes do File objects for reader and writer objects need to be opened in?\n",
    "Ans: For csv.reader(iterable_file_object), the file objects needed to be opened in read mode mode='r' Whereas\n",
    "    for csv.writer(iterable_file_object) the file objects needed to be opened in write mode mode='w'"
   ]
  },
  {
   "cell_type": "code",
   "execution_count": null,
   "id": "48afcca9",
   "metadata": {},
   "outputs": [],
   "source": [
    "4. What method takes a list argument and writes it to a CSV file?\n",
    "Ans: csv.writer class provides two methods for writing to CSV. They are writerow() and writerows().\n",
    "     writerow() method writes a single row at a time. Whereas writerows() method is used to write multiple rows at a time."
   ]
  },
  {
   "cell_type": "code",
   "execution_count": 5,
   "id": "c2aac5c1",
   "metadata": {},
   "outputs": [],
   "source": [
    "import csv      \n",
    "fields = ['Name', 'Branch', 'Year', 'CGPA'] \n",
    "rows = [ \n",
    "            ['Amit', 'CSE', '2', '9'],  \n",
    "            ['Subh', 'EE', '2', '8.1'], \n",
    "            ['Ravi', 'IT', '2', '7.3']\n",
    "       ] \n",
    "with open(\"uni_records.csv\", 'w') as csvfile: \n",
    "    csvwriter = csv.writer(csvfile)  \n",
    "    csvwriter.writerow(fields)  \n",
    "    csvwriter.writerows(rows)  "
   ]
  },
  {
   "cell_type": "code",
   "execution_count": null,
   "id": "340ca254",
   "metadata": {},
   "outputs": [],
   "source": [
    "5. What do the keyword arguments delimiter and line terminator do?\n",
    "Ans: Lets take the example of a csv file:\n",
    "     First Name, Last Name, Age\n",
    "     Amit, Kumar, 24\n",
    "     Vishal, Singh, 21\n",
    "     Here ',' is Delimiter. We can use any Character as per our needs if required. Similarly Line Terminator comes at end of line\n",
    "     by default it is newline and can be changed accourding to Requirement."
   ]
  },
  {
   "cell_type": "code",
   "execution_count": null,
   "id": "954801f3",
   "metadata": {},
   "outputs": [],
   "source": [
    "6. What function takes a string of JSON data and returns a Python data structure?\n",
    "Ans: loads() method takes a string of JSON data and returns a Python data structure"
   ]
  },
  {
   "cell_type": "code",
   "execution_count": 8,
   "id": "b64411e9",
   "metadata": {},
   "outputs": [
    {
     "name": "stdout",
     "output_type": "stream",
     "text": [
      "{\n",
      "    \"Name\": \"Amit kumar\",\n",
      "    \"Qualification\": \"Bachelor of Technology\",\n",
      "    \"Stream\": \"Computer Science \"\n",
      "}\n",
      "Type of details_json is <class 'str'>\n",
      "{'Name': 'Amit kumar', 'Qualification': 'Bachelor of Technology', 'Stream': 'Computer Science '}\n",
      "Type of my_details is <class 'dict'>\n"
     ]
    }
   ],
   "source": [
    "import json\n",
    "details_json ='''{\n",
    "    \"Name\": \"Amit kumar\",\n",
    "    \"Qualification\": \"Bachelor of Technology\",\n",
    "    \"Stream\": \"Computer Science \"\n",
    "}'''\n",
    "print(details_json)\n",
    "print(f'Type of details_json is {type(details_json)}')\n",
    "my_details = json.loads(details_json)\n",
    "print(my_details)\n",
    "print(f'Type of my_details is {type(my_details)}')"
   ]
  },
  {
   "cell_type": "code",
   "execution_count": null,
   "id": "abfb9041",
   "metadata": {},
   "outputs": [],
   "source": [
    "7. What function takes a Python data structure and returns a string of JSON data?\n",
    "Ans: dumps() method takes a python data structure and returns a string of JSON data"
   ]
  },
  {
   "cell_type": "code",
   "execution_count": 9,
   "id": "e6336db3",
   "metadata": {},
   "outputs": [
    {
     "name": "stdout",
     "output_type": "stream",
     "text": [
      "{\n",
      "    \"Name\": \"Amit kumar\",\n",
      "    \"Qualification\": \"Bachelor of Technology\",\n",
      "    \"Stream\": \"Computer Science \"\n",
      "}\n",
      "Type of details_json is <class 'str'>\n",
      "{\n",
      "    \"Name\": \"Amit kumar\",\n",
      "    \"Qualification\": \"Bachelor of Technology\",\n",
      "    \"Stream\": \"Computer Science \"\n",
      "}\n",
      "Type of my_details_json is <class 'str'>\n"
     ]
    }
   ],
   "source": [
    "import json\n",
    "details_json ='''{\n",
    "    \"Name\": \"Amit kumar\",\n",
    "    \"Qualification\": \"Bachelor of Technology\",\n",
    "    \"Stream\": \"Computer Science \"\n",
    "}'''\n",
    "print(details_json)\n",
    "print(f'Type of details_json is {type(details_json)}')\n",
    "details_json = json.dumps(my_details, indent=4, sort_keys=True)\n",
    "print(details_json)\n",
    "print(f'Type of my_details_json is {type(details_json)}')"
   ]
  }
 ],
 "metadata": {
  "kernelspec": {
   "display_name": "Python 3 (ipykernel)",
   "language": "python",
   "name": "python3"
  },
  "language_info": {
   "codemirror_mode": {
    "name": "ipython",
    "version": 3
   },
   "file_extension": ".py",
   "mimetype": "text/x-python",
   "name": "python",
   "nbconvert_exporter": "python",
   "pygments_lexer": "ipython3",
   "version": "3.9.7"
  }
 },
 "nbformat": 4,
 "nbformat_minor": 5
}
