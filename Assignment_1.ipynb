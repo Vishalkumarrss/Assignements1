{
 "cells": [
  {
   "cell_type": "code",
   "execution_count": null,
   "id": "d1dcfcd6",
   "metadata": {},
   "outputs": [],
   "source": [
    "Q1. What is the purpose of Python's OOP?\n",
    "Ans: Object-oriented programming is a programming paradigm that provides a means of structuring programs so that \n",
    "     properties and behaviors are bundled into individual objects\n",
    "\n",
    "1.In Python, object-oriented Programming (OOPs) uses objects and classes in programming.\n",
    "2.It aims to implement real-world entities like inheritance, polymorphisms, encapsulation, etc. in the programming.\n",
    "3.The main concept of OOPs is to bind the data and the functions that work on that together as a single unit so that \n",
    "  no other part of the code can access this data.\n",
    "4.It comes up with the following advantages:\n",
    "5.It helps to divide our over all program into different small segments and thus making it solving easy with the use of objects\n",
    "5.Helps in easy maintenance and modification of existing program\n",
    "6.Multiple instances of an object can be made."
   ]
  },
  {
   "cell_type": "code",
   "execution_count": null,
   "id": "46219651",
   "metadata": {},
   "outputs": [],
   "source": [
    "Q2. Where does an inheritance search look for an attribute?\n",
    "Ans: Python searches for an attribute in an upward tree of attributes. it first searches for the attribute in its \n",
    "     instance and then looks in the class it is generated from, to all super classes listed in its class header"
   ]
  },
  {
   "cell_type": "code",
   "execution_count": null,
   "id": "ab244bb1",
   "metadata": {},
   "outputs": [],
   "source": [
    "Q3. How do you distinguish between a class object and an instance object?\n",
    "Ans: The differences between a class object and an instance object are:\n",
    "\n",
    "Class is a template for creating objects whereas object is an instance of class Seperate memory is allocated for each \n",
    "object whenever an object is created but for a class this does not happens.A Class is created once. Many objects are created \n",
    "using a class.As Classes have no allocated memory. They can not be manipulated but objects can be manipulated."
   ]
  },
  {
   "cell_type": "code",
   "execution_count": null,
   "id": "3fde7efe",
   "metadata": {},
   "outputs": [],
   "source": [
    "Q4. What makes the first argument in a class’s method function special?\n",
    "Ans: Python Classes usually have three types of methods which are:\n",
    "\n",
    "1.Instance Methods (object level methods)\n",
    "2.Class Methods (class level methods)\n",
    "3.Static Methods (general utility methods)\n",
    "4.self is the first argument for instance methods. which refers to the object itself\n",
    "5.cls is the first argument for class methods which refers to the class itself\n"
   ]
  },
  {
   "cell_type": "code",
   "execution_count": null,
   "id": "7d0a9993",
   "metadata": {},
   "outputs": [],
   "source": [
    "Q5. What is the purpose of the init method?\n",
    "Ans: __init__ is a reseved method in python classes. It serves the role of a constructor in object oriented terminology. \n",
    "    This method is called when an object is created from a class and it allows the class to initialize the attributes of \n",
    "     the class\n",
    "\n"
   ]
  },
  {
   "cell_type": "code",
   "execution_count": null,
   "id": "bb4e29b2",
   "metadata": {},
   "outputs": [],
   "source": [
    "Q6. What is the process for creating a class instance?\n",
    "Ans: To create a class instance, we need to call the class by its name and pass the arguments to the class, which its \n",
    "     init method accepts.\n",
    "\n",
    "Example: my_name = my_class(\"Vishal\",\" Kumar\") \n",
    "       Here my_name is an instance of class my_class with attributes \"Vishal\" and \" Kumar\"."
   ]
  },
  {
   "cell_type": "code",
   "execution_count": null,
   "id": "075803be",
   "metadata": {},
   "outputs": [],
   "source": [
    "Q7. What is the process for creating a class?\n",
    "Ans: class keyword is used to created a class in python. The syntax to create a class in python is class <classname>:\n",
    "\n",
    "Example: class Car:\n",
    "        #this creates a class called Car\n",
    "\n"
   ]
  },
  {
   "cell_type": "code",
   "execution_count": null,
   "id": "a0d24bac",
   "metadata": {},
   "outputs": [],
   "source": [
    "Q8. How would you define the superclasses of a class?\n",
    "Ans Superclass/Parent class is given as a arugment to the child class\n",
    "\n",
    "Example: class Employee(Person): Here child class Employee inherits attributes and methods from Superclass/Parent class"
   ]
  }
 ],
 "metadata": {
  "kernelspec": {
   "display_name": "Python 3 (ipykernel)",
   "language": "python",
   "name": "python3"
  },
  "language_info": {
   "codemirror_mode": {
    "name": "ipython",
    "version": 3
   },
   "file_extension": ".py",
   "mimetype": "text/x-python",
   "name": "python",
   "nbconvert_exporter": "python",
   "pygments_lexer": "ipython3",
   "version": "3.9.7"
  }
 },
 "nbformat": 4,
 "nbformat_minor": 5
}
