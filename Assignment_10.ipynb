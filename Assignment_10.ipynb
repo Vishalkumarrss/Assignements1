{
 "cells": [
  {
   "cell_type": "code",
   "execution_count": null,
   "id": "94072561",
   "metadata": {},
   "outputs": [],
   "source": [
    "1. How do you distinguish between shutil.copy() and shutil.copytree()?\n",
    "Ans: shutil.copy() method is used to copy the contents of a file from one file to another file/folder, it primary takes \n",
    "     two arguments src,dest,src represents the file to be copied where as destination refers to the file/folder to where\n",
    "     the src data should be copied, if dest is a folder name the src with exact name will be copied to the dest folder, if its a \n",
    "     file then the contents of src will be copied to dest where dest retains it name.\n",
    "\n",
    "    shutil.copytree() function is used to copy the entire contents of a folder to other folder.it also takes two arguments src & dest, it \n",
    "    copies all the content recursively and stores it in dest. the important catch here is dest must not exist prior to this and it will be\n",
    "    created during the copy operation. Permissions and times of directories are copied with shutil.copystat()and individual files are copied\n",
    "    using shutil.copy2() by default which can be modified using copy_function attribute."
   ]
  },
  {
   "cell_type": "code",
   "execution_count": null,
   "id": "ea0f8e77",
   "metadata": {},
   "outputs": [],
   "source": [
    "2. What function is used to rename files??\n",
    "Ans: os.rename() function is used to rename files or directories using a python  program, this function takes two arguments src \n",
    "    and dest, src represents the name file/directory which we want to rename, whereas dest represents the new name of the file/directory."
   ]
  },
  {
   "cell_type": "code",
   "execution_count": null,
   "id": "ffbc2916",
   "metadata": {},
   "outputs": [],
   "source": [
    "3. What is the difference between the delete functions in the send2trash and shutil modules?\n",
    "Ans: Shutil module provides a funciton called as shutil.rmtree() which deletes a directory and all its contents.\n",
    "    The other functions with similar functionality are os.remove() -> removes a file, os.rmdir() removes a empty\n",
    "    directory. The problem with these functions is once a file is deleted. it will be lost permanently, if a file\n",
    "    is deleted accidentally using these methods there is no way we can recover the deleted file\n",
    "\n",
    "    Where as send2trash module provides a function called send2trash.send2trash() to delete a file/directory. these\n",
    "    methods moves the files/directories to trash folder instead of permanently deleting them. hence if a file/folder \n",
    "    is deleted accidentally it can be still recovered from trash folder, if is deleted using the send2trash.send2trash()\n",
    "    function. send2trash is not included with python standard libary like os & shutil modules. it needs to be installed \n",
    "    explicitly using the command !pip install send2trash"
   ]
  },
  {
   "cell_type": "code",
   "execution_count": null,
   "id": "0186406c",
   "metadata": {},
   "outputs": [],
   "source": [
    "4.ZipFile objects have a close() method just like File objects’ close() method.\n",
    "  What ZipFile method is equivalent to File objects’ open() method?\n",
    "Ans: ZipFile Module provides a method called as zipfile.ZipFile() to read and write to zipFiles.\n",
    "     it takes arugments lile filename and mode etc zipfile.ZipFile('filename', mode = 'r')"
   ]
  },
  {
   "cell_type": "code",
   "execution_count": null,
   "id": "1d841270",
   "metadata": {},
   "outputs": [],
   "source": [
    "5. Create a programme that searches a folder tree for files with a certain file extension (such as .pdf or .jpg). \n",
    "   Copy these files from whatever location they are in to a new folder"
   ]
  },
  {
   "cell_type": "code",
   "execution_count": 2,
   "id": "6058e330",
   "metadata": {},
   "outputs": [],
   "source": [
    "import os\n",
    "import shutil\n",
    "\n",
    "def search_and_copy(source,destination,extensions):\n",
    "    source = os.path.abspath(source)\n",
    "    destination = os.path.abspath(destination)\n",
    "    for foldername, subfolder, filenames in os.walk(source):\n",
    "        print(f'Folder Name ➞ {foldername}',end='\\n\\n')\n",
    "        print(f'Sub Folders ➞ {subfolder}',end='\\n\\n')\n",
    "        print(f'Files ➞ {filenames}',end='\\n\\n')\n",
    "        for filename in filenames:\n",
    "            fileName,extension = os.path.splitext(filename)\n",
    "            if extension in extensions:\n",
    "                targetFile = foldername+os.path.sep+fileName+extension\n",
    "                shutil.copy(targetFile, destination)\n",
    "        print(f'Files copied successfully from {source} to {destination}')\n",
    "    \n",
    "extensions = ['.pdf','.jpg','.ipynb']\n",
    "source = 'myfile'\n",
    "destination = 'Dummy Destination'\n",
    "search_and_copy(source, destination, extensions)"
   ]
  }
 ],
 "metadata": {
  "kernelspec": {
   "display_name": "Python 3 (ipykernel)",
   "language": "python",
   "name": "python3"
  },
  "language_info": {
   "codemirror_mode": {
    "name": "ipython",
    "version": 3
   },
   "file_extension": ".py",
   "mimetype": "text/x-python",
   "name": "python",
   "nbconvert_exporter": "python",
   "pygments_lexer": "ipython3",
   "version": "3.9.7"
  }
 },
 "nbformat": 4,
 "nbformat_minor": 5
}
