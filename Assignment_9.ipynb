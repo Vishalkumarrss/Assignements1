{
 "cells": [
  {
   "cell_type": "code",
   "execution_count": null,
   "id": "74f60eb7",
   "metadata": {},
   "outputs": [],
   "source": [
    "1.To what does a relative path refer ?\n",
    "Ans: The relative path is the path to some file with respect to your current working directory (PWD).\n",
    "For example: if Absolute path to a file called mytext.txt is:\n",
    "            C:/users/admin/docs/mytext.txt If my PWD is C:/users/admin/ , then the relative\n",
    "            path to mytext.txt would be: docs/mytext.txt"
   ]
  },
  {
   "cell_type": "code",
   "execution_count": null,
   "id": "410b06f3",
   "metadata": {},
   "outputs": [],
   "source": [
    "2.Where does an absolute path start with your Operating System ?\n",
    "Ans: In Linux based systems the absolute path starts with /. Where as in Windows based \n",
    "     systems absolute path starts with C:"
   ]
  },
  {
   "cell_type": "code",
   "execution_count": null,
   "id": "796a190c",
   "metadata": {},
   "outputs": [],
   "source": [
    "3.What does the functions os.getcwd() and os.chdir() do ?\n",
    "Ans: os.getcwd() method tells us the location of current working directory (CWD). \n",
    "     os.chdir() method in Python used to change the current working directory to specified path. These functions are similar to linux commands pwd and cd"
   ]
  },
  {
   "cell_type": "code",
   "execution_count": null,
   "id": "03efd102",
   "metadata": {},
   "outputs": [],
   "source": [
    "4.What are . and .. folders ?\n",
    "Ans: . Represents the Current Directory\n",
    "     Whereas .. Represents the Parent Directory of the Current Directory"
   ]
  },
  {
   "cell_type": "code",
   "execution_count": null,
   "id": "1cd4e765",
   "metadata": {},
   "outputs": [],
   "source": [
    "5.In C:\\bacon\\eggs\\spam.txt which part is the dir name and which part is the base name ?\n",
    "Ans: For C:\\bacon\\eggs\\spam.txt\n",
    "     The dir name is C:\\\\bacon\\\\eggs\n",
    "     The Base name is spam.txt"
   ]
  },
  {
   "cell_type": "code",
   "execution_count": 2,
   "id": "a5499cf9",
   "metadata": {},
   "outputs": [
    {
     "name": "stdout",
     "output_type": "stream",
     "text": [
      "C:\\bacon\\eggs\n",
      "spam.txt\n"
     ]
    }
   ],
   "source": [
    "import os\n",
    "path = r'C:\\bacon\\eggs\\spam.txt'\n",
    "print(os.path.dirname(path))\n",
    "print(os.path.basename(path))"
   ]
  },
  {
   "cell_type": "code",
   "execution_count": null,
   "id": "bf4a4435",
   "metadata": {},
   "outputs": [],
   "source": [
    "6.What are the three mode arguments that can be passed to the open() function ?\n",
    "Ans: A file can be Accessed in python using open() function. open function takes two arguments\n",
    "     filename and mode of operation (optional). if mode is not provided the default mode of opening \n",
    "     is read mode\n",
    "So, the syntax being: open(filename, mode)\n",
    "\n",
    "‘r’ – Read Mode: This is the default mode for open(). The file is opened and a pointer is positioned at the \n",
    "     beginning of the file’s content.\n",
    "‘w’ – Write Mode: Using this mode will overwrite any existing content in a file. If the given file does not exist,\n",
    "      a new one will be created.\n",
    "‘r+’ – Read/Write Mode: Use this mode if you need to simultaneously read and write to a file.\n",
    "‘a’ – Append Mode: With this mode the user can append the data without overwriting any already existing data in the file.\n",
    "‘a+’ – Append and Read Mode: In this mode you can read and append the data without overwriting the original file.\n",
    "‘x’ – Exclusive Creating Mode: This mode is for the sole purpose of creating new files. Use this mode if you know the \n",
    "      file to be written doesn’t exist beforehand."
   ]
  },
  {
   "cell_type": "code",
   "execution_count": null,
   "id": "46c122a9",
   "metadata": {},
   "outputs": [],
   "source": [
    "7.What happens if an existing file is opened in write mode ?\n",
    "Ans: Using this mode will overwrite any existing content in a file. \n",
    "     If the given file does not exist, a new one will be created."
   ]
  },
  {
   "cell_type": "code",
   "execution_count": null,
   "id": "e9027c5b",
   "metadata": {},
   "outputs": [],
   "source": [
    "8.How do you tell the difference between read() and readlines() ?\n",
    "Ans: The main difference is that read() will read the whole file at once and \n",
    "     then print out the first characters that take up as many bytes as you specify in the parenthesis\n",
    "\n",
    ". Whereas the readline() that will read and print out only the first characters that take up as many \n",
    "  bytes as you specify in the parenthesis. You may want to use readline() when you're reading files that\n",
    "  are too big for your RAM.\n",
    ". The read() would treat each character in the file separately, meaning that the iteration would happen \n",
    "  for every character.\n",
    ". The readline() function, on the other hand, only reads a single line of the file. This means that if \n",
    "  the first line of the file were three lines long, the readline() function would only parse \n",
    "  on the first line of the file."
   ]
  },
  {
   "cell_type": "code",
   "execution_count": null,
   "id": "1e8ad5b9",
   "metadata": {},
   "outputs": [],
   "source": [
    "9.What data structure does a shelf value resemble ?\n",
    "Ans: it contains key and values it represents dictionary."
   ]
  }
 ],
 "metadata": {
  "kernelspec": {
   "display_name": "Python 3 (ipykernel)",
   "language": "python",
   "name": "python3"
  },
  "language_info": {
   "codemirror_mode": {
    "name": "ipython",
    "version": 3
   },
   "file_extension": ".py",
   "mimetype": "text/x-python",
   "name": "python",
   "nbconvert_exporter": "python",
   "pygments_lexer": "ipython3",
   "version": "3.9.7"
  }
 },
 "nbformat": 4,
 "nbformat_minor": 5
}
